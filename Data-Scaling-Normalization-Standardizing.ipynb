{
 "cells": [
  {
   "cell_type": "markdown",
   "id": "61c23a30",
   "metadata": {},
   "source": [
    "Scaling, standardizing, normalization is the same"
   ]
  },
  {
   "cell_type": "markdown",
   "id": "d5608a47",
   "metadata": {},
   "source": [
    "# 1. Standardizing Data"
   ]
  },
  {
   "cell_type": "markdown",
   "id": "bcf94f6e",
   "metadata": {},
   "source": [
    "### Description"
   ]
  },
  {
   "cell_type": "markdown",
   "id": "407a0e9d",
   "metadata": {},
   "source": [
    "Also calles as: \n",
    "* Z-score scaling\n",
    "* Standard score scaling\n",
    "* Z-score normalization.\n",
    "\n",
    "Formula:\n",
    "\n",
    "z = (x - u) / s\n",
    "\n",
    "where z is the standardized value, x is the original value, u is the mean of the values, and s is the standard deviation of the values."
   ]
  },
  {
   "cell_type": "markdown",
   "id": "7b1b68e5",
   "metadata": {},
   "source": [
    "### Usage"
   ]
  },
  {
   "cell_type": "markdown",
   "id": "df5550b8",
   "metadata": {},
   "source": [
    "* Assumes normal distribution. If the data is not normally distributed, standardization may not be appropriate, and other scaling or transformation techniques may be more effective.\n",
    "\n",
    "* Outliers in the data can have a significant impact. Important to handle outliers before standardizing the data.\n",
    "\n",
    "* Can magnify noise\n",
    "\n",
    "* May not be appropriate for some algorithms (decision trees and random forests)"
   ]
  },
  {
   "cell_type": "markdown",
   "id": "682abcc7",
   "metadata": {},
   "source": [
    "### Example  1"
   ]
  },
  {
   "cell_type": "code",
   "execution_count": 3,
   "id": "f6bb52b9",
   "metadata": {
    "scrolled": true
   },
   "outputs": [
    {
     "name": "stdout",
     "output_type": "stream",
     "text": [
      "Mean of X: [5.84333333 3.05733333 3.758      1.19933333]\n",
      "Standard deviation of X: [0.82530129 0.43441097 1.75940407 0.75969263]\n",
      "\n",
      "Mean of scaled data: [-1.69031455e-15 -1.84297022e-15 -1.69864123e-15 -1.40924309e-15]\n",
      "Standard deviation of scaled data: [1. 1. 1. 1.]\n"
     ]
    }
   ],
   "source": [
    "from sklearn import datasets\n",
    "from sklearn import preprocessing\n",
    "\n",
    "# Load sample data\n",
    "iris = datasets.load_iris()\n",
    "X = iris.data\n",
    "\n",
    "# Scale data\n",
    "X_scaled = preprocessing.scale(X)\n",
    "\n",
    "# Print mean and standard deviation of the input data\n",
    "print(\"Mean of X:\", X.mean(axis=0))\n",
    "print(\"Standard deviation of X:\", X.std(axis=0))\n",
    "\n",
    "print()\n",
    "\n",
    "# Print mean and standard deviation of the scaled data\n",
    "print(\"Mean of scaled data:\", X_scaled.mean(axis=0))\n",
    "print(\"Standard deviation of scaled data:\", X_scaled.std(axis=0))"
   ]
  },
  {
   "cell_type": "markdown",
   "id": "3460f611",
   "metadata": {},
   "source": [
    "### Example 2"
   ]
  },
  {
   "cell_type": "code",
   "execution_count": 12,
   "id": "637bc776",
   "metadata": {},
   "outputs": [
    {
     "name": "stdout",
     "output_type": "stream",
     "text": [
      "Mean of X: [5.84333333 3.05733333 3.758      1.19933333]\n",
      "Standard deviation of X: [0.82530129 0.43441097 1.75940407 0.75969263]\n",
      "\n",
      "Mean of scaled data: [-1.69031455e-15 -1.84297022e-15 -1.69864123e-15 -1.40924309e-15]\n",
      "Standard deviation of scaled data: [1. 1. 1. 1.]\n"
     ]
    }
   ],
   "source": [
    "from sklearn import datasets\n",
    "from sklearn import preprocessing\n",
    "\n",
    "# Load sample data\n",
    "iris = datasets.load_iris()\n",
    "X = iris.data\n",
    "\n",
    "scaler = preprocessing.StandardScaler().fit(X)\n",
    "\n",
    "# Print mean and standard deviation of the input data\n",
    "print(\"Mean of X:\", scaler.mean_)\n",
    "print(\"Standard deviation of X:\", scaler.scale_)\n",
    "\n",
    "#Scale data\n",
    "X_scaled = scaler.transform(X)\n",
    "print()\n",
    "\n",
    "# Print mean and standard deviation of the scaled data\n",
    "print(\"Mean of scaled data:\", X_scaled.mean(axis=0))\n",
    "print(\"Standard deviation of scaled data:\", X_scaled.std(axis=0))"
   ]
  },
  {
   "cell_type": "markdown",
   "id": "a8eeac21",
   "metadata": {},
   "source": [
    "### Example 3"
   ]
  },
  {
   "cell_type": "code",
   "execution_count": 16,
   "id": "7e884294",
   "metadata": {},
   "outputs": [
    {
     "name": "stdout",
     "output_type": "stream",
     "text": [
      "Mean of X: [5.84333333 3.05733333 3.758      1.19933333]\n",
      "Standard deviation of X: [0.82530129 0.43441097 1.75940407 0.75969263]\n",
      "\n",
      "Mean of scaled data: [-1.69031455e-15 -1.84297022e-15 -1.69864123e-15 -1.40924309e-15]\n",
      "Standard deviation of scaled data: [1. 1. 1. 1.]\n"
     ]
    }
   ],
   "source": [
    "from sklearn import datasets\n",
    "from scipy.stats import zscore\n",
    "\n",
    "# Load sample data\n",
    "iris = datasets.load_iris()\n",
    "X = iris.data\n",
    "\n",
    "X_scaled = zscore(X)\n",
    "\n",
    "# Print mean and standard deviation of the input data\n",
    "print(\"Mean of X:\", scaler.mean_)\n",
    "print(\"Standard deviation of X:\", scaler.scale_)\n",
    "\n",
    "print()\n",
    "\n",
    "# Print the mean and standard deviation of the scaled dataset\n",
    "print(\"Mean of scaled data:\", X_scaled.mean(axis=0))\n",
    "print(\"Standard deviation of scaled data:\", X_scaled.std(axis=0))"
   ]
  },
  {
   "cell_type": "markdown",
   "id": "445a6b84",
   "metadata": {},
   "source": [
    "# 2. Scaling features to a range"
   ]
  },
  {
   "cell_type": "markdown",
   "id": "82f72677",
   "metadata": {},
   "source": [
    "# 3. Scaling sparse data"
   ]
  },
  {
   "cell_type": "markdown",
   "id": "b4bbd263",
   "metadata": {},
   "source": [
    "# 4. Scaling data with outliers"
   ]
  },
  {
   "cell_type": "code",
   "execution_count": null,
   "id": "c5310c69",
   "metadata": {},
   "outputs": [],
   "source": []
  }
 ],
 "metadata": {
  "kernelspec": {
   "display_name": "Python 3 (ipykernel)",
   "language": "python",
   "name": "python3"
  },
  "language_info": {
   "codemirror_mode": {
    "name": "ipython",
    "version": 3
   },
   "file_extension": ".py",
   "mimetype": "text/x-python",
   "name": "python",
   "nbconvert_exporter": "python",
   "pygments_lexer": "ipython3",
   "version": "3.10.2"
  }
 },
 "nbformat": 4,
 "nbformat_minor": 5
}
